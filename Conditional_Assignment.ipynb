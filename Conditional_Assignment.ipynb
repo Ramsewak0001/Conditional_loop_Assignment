{
 "cells": [
  {
   "cell_type": "code",
   "execution_count": null,
   "id": "7c40a9e4-10ba-4497-88f3-b8674ac39629",
   "metadata": {},
   "outputs": [],
   "source": [
    "Q1. Write a program to accept percentage from the user and display the grade according to the following criteria:\n",
    "    Marks           Grade\n",
    "    >90             A\n",
    "    >80 and <=90    B\n",
    "    >=60 and <=80   C\n",
    "    below 60        D"
   ]
  },
  {
   "cell_type": "code",
   "execution_count": 1,
   "id": "eb779543-e191-4d70-9787-b23638e72aa8",
   "metadata": {},
   "outputs": [
    {
     "name": "stdin",
     "output_type": "stream",
     "text": [
      "Enter your percentage =  95\n"
     ]
    },
    {
     "name": "stdout",
     "output_type": "stream",
     "text": [
      "Grade  A\n"
     ]
    }
   ],
   "source": [
    "percentage = int(input(\"Enter your percentage = \"))\n",
    "if percentage > 90 :\n",
    "    print(\"Grade  A\")\n",
    "elif percentage > 80 and percentage <= 90 :\n",
    "    print(\"Grade  B\")\n",
    "elif percentage >=60 and percentage <= 80 :\n",
    "    print(\"Grade  C\")\n",
    "else :\n",
    "    print(\"Grade  D\")"
   ]
  },
  {
   "cell_type": "code",
   "execution_count": null,
   "id": "180f0953-cd63-479f-91d6-c7bd46807736",
   "metadata": {},
   "outputs": [],
   "source": [
    "Q2. Write a Program to accept the cost price of a bike and display the road tax to be paid according to the following criteria:\n",
    "    Tax     Cost Price(in Rs)\n",
    "    15%     >100000\n",
    "    10%     >50000 and <=100000\n",
    "    5%      <=50000"
   ]
  },
  {
   "cell_type": "code",
   "execution_count": 4,
   "id": "689474f8-05a6-4a48-9ce1-0ec4d5be8397",
   "metadata": {},
   "outputs": [
    {
     "name": "stdin",
     "output_type": "stream",
     "text": [
      "Enter the cost price of a bike =  75000\n"
     ]
    },
    {
     "name": "stdout",
     "output_type": "stream",
     "text": [
      "The Road tax to be paid is =  7500.0\n"
     ]
    }
   ],
   "source": [
    "cost = int(input(\"Enter the cost price of a bike = \"))\n",
    "if cost >100000 :\n",
    "    tax = 0.15 * cost\n",
    "elif cost > 50000 and cost <=100000 :\n",
    "    tax = 0.1 * cost\n",
    "else :\n",
    "    tax = 0.05 * cost\n",
    "print(\"The Road tax to be paid is = \",tax)"
   ]
  },
  {
   "cell_type": "code",
   "execution_count": null,
   "id": "20f11dab-d3ea-4a50-846f-f9e084849a7a",
   "metadata": {},
   "outputs": [],
   "source": [
    "Q3. Accept any city from the user and diaplay monuments of that city.\n",
    "    City       Monument\n",
    "    Delhi      Red Fort\n",
    "    Agra       Taj Mahal\n",
    "    Jaipur     Jal Mahal"
   ]
  },
  {
   "cell_type": "code",
   "execution_count": 6,
   "id": "553165c1-de51-42e3-8c50-af388a1f3a1f",
   "metadata": {},
   "outputs": [
    {
     "name": "stdin",
     "output_type": "stream",
     "text": [
      "Enter a city Delhi , Agra , Jaipur =  Agra\n"
     ]
    },
    {
     "name": "stdout",
     "output_type": "stream",
     "text": [
      "The Monument of the Agra is Taj Mahal\n"
     ]
    }
   ],
   "source": [
    "city = input(\"Enter a city Delhi , Agra , Jaipur = \")\n",
    "if city == \"Delhi\" :\n",
    "    print(\"The Monument of the Delhi is Red Fort\")\n",
    "elif city == \"Agra\" :\n",
    "    print(\"The Monument of the Agra is Taj Mahal\")\n",
    "elif city == \"Jaipur\" :\n",
    "    print(\"The Monument of the Jaipur is Jal Mahal\")"
   ]
  },
  {
   "cell_type": "code",
   "execution_count": null,
   "id": "b2442b06-80ff-4398-8be2-0e279aed8d30",
   "metadata": {},
   "outputs": [],
   "source": [
    "Q4. Check how many times a given number can be divided by 3 before it is less then or equal to 10."
   ]
  },
  {
   "cell_type": "code",
   "execution_count": 16,
   "id": "367dcf65-a4ba-4d05-8545-3a0a4cf3c845",
   "metadata": {},
   "outputs": [
    {
     "name": "stdin",
     "output_type": "stream",
     "text": [
      "Enter a Number =  90\n"
     ]
    },
    {
     "name": "stdout",
     "output_type": "stream",
     "text": [
      "The given number can be divided by 3 before it is less then or equal to 10  is =   2\n"
     ]
    }
   ],
   "source": [
    "num = int(input(\"Enter a Number = \"))\n",
    "count = 0\n",
    "while num > 10:\n",
    "    num = num/3\n",
    "    count += 1\n",
    "print(\"The given number can be divided by 3 before it is less then or equal to 10  is =  \",count)"
   ]
  },
  {
   "cell_type": "code",
   "execution_count": null,
   "id": "7746ae9c-3af8-4ea2-8338-ac58751c56cc",
   "metadata": {},
   "outputs": [],
   "source": [
    "Q5. Why and when to Use while loop in Python give a detailed description with example."
   ]
  },
  {
   "cell_type": "code",
   "execution_count": null,
   "id": "06838a42-67db-4906-aad1-4200d96ebab8",
   "metadata": {},
   "outputs": [],
   "source": [
    "Ans. The \"while\" loop is a control flow structure in Python that allows you to repeatedly execute a block of code as long as a given condition is true.\n",
    "     for Example :"
   ]
  },
  {
   "cell_type": "code",
   "execution_count": 17,
   "id": "42bf32cc-173f-460e-bfec-2cacad0a1dc0",
   "metadata": {},
   "outputs": [
    {
     "name": "stdout",
     "output_type": "stream",
     "text": [
      "1\n",
      "2\n",
      "3\n",
      "4\n",
      "5\n",
      "6\n",
      "7\n",
      "8\n",
      "9\n",
      "10\n"
     ]
    }
   ],
   "source": [
    "##print a number 1 to 10\n",
    "count=1\n",
    "while count<=10:\n",
    "    print(count)\n",
    "    count += 1"
   ]
  },
  {
   "cell_type": "code",
   "execution_count": null,
   "id": "74b609c4-db60-462c-aeb7-1b3342afa15b",
   "metadata": {},
   "outputs": [],
   "source": [
    "Q6. Use nested while loop to print 3 different pattern."
   ]
  },
  {
   "cell_type": "code",
   "execution_count": 3,
   "id": "088919f8-3373-4591-832b-a4cca7e4faf6",
   "metadata": {},
   "outputs": [
    {
     "name": "stdout",
     "output_type": "stream",
     "text": [
      "* \n",
      "** \n",
      "*** \n",
      "**** \n",
      "***** \n"
     ]
    }
   ],
   "source": [
    "rows = 5\n",
    "i = 1\n",
    "while i <= rows:\n",
    "    j = 1\n",
    "    while j <= i:\n",
    "        print(\"*\",end=\"\")\n",
    "        j += 1\n",
    "    print(\" \")\n",
    "    i += 1"
   ]
  },
  {
   "cell_type": "code",
   "execution_count": 4,
   "id": "fca4dac5-91e9-4042-8b59-cf91dc233c51",
   "metadata": {},
   "outputs": [
    {
     "name": "stdout",
     "output_type": "stream",
     "text": [
      "***** \n",
      "***** \n",
      "***** \n",
      "***** \n",
      "***** \n"
     ]
    }
   ],
   "source": [
    "rows = 5\n",
    "i = 1\n",
    "while i <= rows:\n",
    "    j = 1\n",
    "    while j <= rows:\n",
    "        print(\"*\", end=\"\")\n",
    "        j += 1\n",
    "    print(\" \")\n",
    "    i += 1"
   ]
  },
  {
   "cell_type": "code",
   "execution_count": 6,
   "id": "3a111658-4aa7-40af-8cb7-8f235f26cabe",
   "metadata": {},
   "outputs": [
    {
     "name": "stdout",
     "output_type": "stream",
     "text": [
      "1 \n",
      "12 \n",
      "123 \n",
      "1234 \n",
      "12345 \n"
     ]
    }
   ],
   "source": [
    "rows = 5\n",
    "i = 1\n",
    "while i <= rows:\n",
    "    j = 1\n",
    "    while j <= i:\n",
    "        print(j,end=\"\")\n",
    "        j += 1\n",
    "    print(\" \")\n",
    "    i += 1"
   ]
  },
  {
   "cell_type": "code",
   "execution_count": 8,
   "id": "64860c9b-3641-4b84-b555-fcca9a37d66d",
   "metadata": {},
   "outputs": [
    {
     "name": "stdout",
     "output_type": "stream",
     "text": [
      "1 \n",
      "22 \n",
      "333 \n",
      "4444 \n",
      "55555 \n"
     ]
    }
   ],
   "source": [
    "rows = 5\n",
    "i = 1\n",
    "while i <= rows:\n",
    "    j = 1\n",
    "    while j <= i:\n",
    "        print(i,end=\"\")\n",
    "        j += 1\n",
    "    print(\" \")\n",
    "    i += 1"
   ]
  },
  {
   "cell_type": "code",
   "execution_count": 19,
   "id": "04de20b2-1b51-4290-be4f-a60f3ea2ce09",
   "metadata": {},
   "outputs": [
    {
     "name": "stdout",
     "output_type": "stream",
     "text": [
      "*****\n",
      "****\n",
      "***\n",
      "**\n",
      "*\n"
     ]
    }
   ],
   "source": [
    "i=5\n",
    "while i>=1:\n",
    "    print(i * \"*\")\n",
    "    i -= 1"
   ]
  },
  {
   "cell_type": "code",
   "execution_count": 20,
   "id": "fafb5618-ee00-41b3-af33-c8a0fd78cff1",
   "metadata": {},
   "outputs": [
    {
     "name": "stdout",
     "output_type": "stream",
     "text": [
      "*****\n",
      "*****\n",
      "*****\n",
      "*****\n",
      "*****\n"
     ]
    }
   ],
   "source": [
    "i=1\n",
    "j=5\n",
    "while i<=5:\n",
    "    print(j * \"*\")\n",
    "    i += 1"
   ]
  },
  {
   "cell_type": "code",
   "execution_count": null,
   "id": "21eb0095-99b4-47c1-b53d-212d27b9f804",
   "metadata": {},
   "outputs": [],
   "source": [
    "Q7. Reverse a while loop to display number from 10 to 1."
   ]
  },
  {
   "cell_type": "code",
   "execution_count": 21,
   "id": "b0749345-2045-4f42-ad17-119c1498f37a",
   "metadata": {},
   "outputs": [
    {
     "name": "stdout",
     "output_type": "stream",
     "text": [
      "10\n",
      "9\n",
      "8\n",
      "7\n",
      "6\n",
      "5\n",
      "4\n",
      "3\n",
      "2\n",
      "1\n"
     ]
    }
   ],
   "source": [
    "count = 10\n",
    "while count >= 1:\n",
    "    print(count)\n",
    "    count -= 1"
   ]
  },
  {
   "cell_type": "code",
   "execution_count": null,
   "id": "b1b4f58b-ffd9-49a2-9090-3c1f139449fc",
   "metadata": {},
   "outputs": [],
   "source": [
    "Q8. Reverse a while loop to display number from 10 to 1."
   ]
  },
  {
   "cell_type": "code",
   "execution_count": 22,
   "id": "490acf3a-4a1a-44a6-b6a0-39888c6f511c",
   "metadata": {},
   "outputs": [
    {
     "name": "stdout",
     "output_type": "stream",
     "text": [
      "10\n",
      "9\n",
      "8\n",
      "7\n",
      "6\n",
      "5\n",
      "4\n",
      "3\n",
      "2\n",
      "1\n"
     ]
    }
   ],
   "source": [
    "count = 10\n",
    "while count >= 1:\n",
    "    print(count)\n",
    "    count -= 1"
   ]
  },
  {
   "cell_type": "code",
   "execution_count": null,
   "id": "caeb8605-2109-45d1-a6c3-01adbbe8ad67",
   "metadata": {},
   "outputs": [],
   "source": [
    "Q8. Reverse a for loop to display number from 10 to 1."
   ]
  },
  {
   "cell_type": "code",
   "execution_count": 9,
   "id": "e2029ed2-8dc4-4ede-bc6e-034ae6bc5d38",
   "metadata": {},
   "outputs": [
    {
     "name": "stdout",
     "output_type": "stream",
     "text": [
      "10\n",
      "9\n",
      "8\n",
      "7\n",
      "6\n",
      "5\n",
      "4\n",
      "3\n",
      "2\n",
      "1\n"
     ]
    }
   ],
   "source": [
    "for i in reversed(range(1, 11)):\n",
    "    print(i)"
   ]
  },
  {
   "cell_type": "code",
   "execution_count": null,
   "id": "d9e2a7ea-f561-4f23-9708-222e27773337",
   "metadata": {},
   "outputs": [],
   "source": []
  }
 ],
 "metadata": {
  "kernelspec": {
   "display_name": "Python 3 (ipykernel)",
   "language": "python",
   "name": "python3"
  },
  "language_info": {
   "codemirror_mode": {
    "name": "ipython",
    "version": 3
   },
   "file_extension": ".py",
   "mimetype": "text/x-python",
   "name": "python",
   "nbconvert_exporter": "python",
   "pygments_lexer": "ipython3",
   "version": "3.10.8"
  }
 },
 "nbformat": 4,
 "nbformat_minor": 5
}
